{
  "nbformat": 4,
  "nbformat_minor": 0,
  "metadata": {
    "colab": {
      "name": "Práctica 1",
      "provenance": [],
      "authorship_tag": "ABX9TyNrG0fYBpEyJOyiYgwLVKVQ",
      "include_colab_link": true
    },
    "kernelspec": {
      "name": "python3",
      "display_name": "Python 3"
    }
  },
  "cells": [
    {
      "cell_type": "markdown",
      "metadata": {
        "id": "view-in-github",
        "colab_type": "text"
      },
      "source": [
        "<a href=\"https://colab.research.google.com/github/Santana-Carlos/ProcesamientoIMG/blob/master/Pr%C3%A1ctica_1.ipynb\" target=\"_parent\"><img src=\"https://colab.research.google.com/assets/colab-badge.svg\" alt=\"Open In Colab\"/></a>"
      ]
    },
    {
      "cell_type": "code",
      "metadata": {
        "id": "gn_m_5BoumLX",
        "colab_type": "code",
        "colab": {}
      },
      "source": [
        "import cv2\n",
        "import tensorflow\n",
        "import torch\n",
        "import numpy"
      ],
      "execution_count": 0,
      "outputs": []
    },
    {
      "cell_type": "code",
      "metadata": {
        "id": "MoBNOFXcwV2k",
        "colab_type": "code",
        "colab": {
          "base_uri": "https://localhost:8080/",
          "height": 34
        },
        "outputId": "2a3c2ffc-a065-4222-ac94-31f753a9ccf7"
      },
      "source": [
        "x = \"\"\n",
        "print(\"esto es = \",x)"
      ],
      "execution_count": 9,
      "outputs": [
        {
          "output_type": "stream",
          "text": [
            "esto es =  \n"
          ],
          "name": "stdout"
        }
      ]
    },
    {
      "cell_type": "code",
      "metadata": {
        "id": "UNZhmik4zPj6",
        "colab_type": "code",
        "colab": {
          "base_uri": "https://localhost:8080/",
          "height": 51
        },
        "outputId": "4e2771bd-ad9d-4c25-9f53-ffd73a418cee"
      },
      "source": [
        "y = [1,2,3,4,5]\n",
        "print (y[0])\n",
        "y[0]=10\n",
        "print (y)"
      ],
      "execution_count": 13,
      "outputs": [
        {
          "output_type": "stream",
          "text": [
            "1\n",
            "[10, 2, 3, 4, 5]\n"
          ],
          "name": "stdout"
        }
      ]
    },
    {
      "cell_type": "code",
      "metadata": {
        "id": "3V-2EB-a0qOD",
        "colab_type": "code",
        "colab": {
          "base_uri": "https://localhost:8080/",
          "height": 34
        },
        "outputId": "728193fc-cd17-4a6b-852b-83c027e5d314"
      },
      "source": [
        "y.append(-5)\n",
        "print (y)"
      ],
      "execution_count": 15,
      "outputs": [
        {
          "output_type": "stream",
          "text": [
            "[10, 2, 3, 4, 5, -5]\n"
          ],
          "name": "stdout"
        }
      ]
    },
    {
      "cell_type": "code",
      "metadata": {
        "id": "Qc6wNsFb0-bF",
        "colab_type": "code",
        "colab": {
          "base_uri": "https://localhost:8080/",
          "height": 34
        },
        "outputId": "c7c67bd0-c354-41a0-d7fa-cd49159ce1cd"
      },
      "source": [
        "del y[0]\n",
        "print (y)"
      ],
      "execution_count": 17,
      "outputs": [
        {
          "output_type": "stream",
          "text": [
            "[3, 4, 5, -5]\n"
          ],
          "name": "stdout"
        }
      ]
    },
    {
      "cell_type": "code",
      "metadata": {
        "id": "nGWE7rTg1S00",
        "colab_type": "code",
        "colab": {
          "base_uri": "https://localhost:8080/",
          "height": 34
        },
        "outputId": "22af5b0d-22bf-4f30-ed36-894f03e51fc0"
      },
      "source": [
        "y.remove(4)\n",
        "print(y)"
      ],
      "execution_count": 18,
      "outputs": [
        {
          "output_type": "stream",
          "text": [
            "[3, 5, -5]\n"
          ],
          "name": "stdout"
        }
      ]
    },
    {
      "cell_type": "code",
      "metadata": {
        "id": "r31zPJIG1kLV",
        "colab_type": "code",
        "colab": {
          "base_uri": "https://localhost:8080/",
          "height": 34
        },
        "outputId": "54353dfd-18ca-4515-9bca-f8a8d17273a0"
      },
      "source": [
        "z=[2,2,2,4,5,6]\n",
        "z.remove(2)\n",
        "print(z)"
      ],
      "execution_count": 19,
      "outputs": [
        {
          "output_type": "stream",
          "text": [
            "[2, 2, 4, 5, 6]\n"
          ],
          "name": "stdout"
        }
      ]
    },
    {
      "cell_type": "code",
      "metadata": {
        "id": "bIkqdTYx2RTT",
        "colab_type": "code",
        "colab": {
          "base_uri": "https://localhost:8080/",
          "height": 34
        },
        "outputId": "bb685e2a-371d-4ca8-fb9b-e4883904a795"
      },
      "source": [
        "def suma(a,b):\n",
        "  s=a+b\n",
        "  return s\n",
        "\n",
        "r=suma(5,7)\n",
        "print(\"elresultado de la suma es: \",r)"
      ],
      "execution_count": 20,
      "outputs": [
        {
          "output_type": "stream",
          "text": [
            "elresultado de la suma es:  12\n"
          ],
          "name": "stdout"
        }
      ]
    },
    {
      "cell_type": "code",
      "metadata": {
        "id": "QAeus5AJ34w3",
        "colab_type": "code",
        "colab": {}
      },
      "source": [
        "def sqPer(l):\n",
        "  per=l*4\n",
        "  return per\n"
      ],
      "execution_count": 0,
      "outputs": []
    },
    {
      "cell_type": "code",
      "metadata": {
        "id": "hTH0S8QW4e_N",
        "colab_type": "code",
        "colab": {}
      },
      "source": [
        "def sqArea(l):\n",
        "  area=l*l\n",
        "  return area\n"
      ],
      "execution_count": 0,
      "outputs": []
    },
    {
      "cell_type": "code",
      "metadata": {
        "id": "JK4Q6Ula6HeA",
        "colab_type": "code",
        "colab": {}
      },
      "source": [
        "def square():\n",
        "  longL = float(input(\"Longitud del lado del cuadrado: \"))\n",
        "  per = sqPer(longL)\n",
        "  area = sqArea(longL)\n",
        "  print(\"El perímetro del cuadrado es: \",per,\"  \",\"El area del cuadrado es: \",area)\n"
      ],
      "execution_count": 0,
      "outputs": []
    },
    {
      "cell_type": "code",
      "metadata": {
        "id": "CweLAkTY8Wi4",
        "colab_type": "code",
        "colab": {}
      },
      "source": [
        "def recPer(l1,l2):\n",
        "  per=(l1*2)+(l2*2)\n",
        "  return per"
      ],
      "execution_count": 0,
      "outputs": []
    },
    {
      "cell_type": "code",
      "metadata": {
        "id": "7pbcZx3D_3JW",
        "colab_type": "code",
        "colab": {}
      },
      "source": [
        "def recArea(l1,l2):\n",
        "  area=l1*l2\n",
        "  return area"
      ],
      "execution_count": 0,
      "outputs": []
    },
    {
      "cell_type": "code",
      "metadata": {
        "id": "ERJAymOF_9ck",
        "colab_type": "code",
        "colab": {}
      },
      "source": [
        "def rectangulo():\n",
        "  longL1 = float(input(\"Longitud de la altura del rectángulo: \"))\n",
        "  longL2 = float(input(\"Longitud de la base del retángulo: \"))\n",
        "  per = recPer(longL1,longL2)\n",
        "  area = recArea(longL1,longL2)\n",
        "  print(\"El perímetro del rectángulo es: \",per,\"  \",\"El area del rectángulo es: \",area)"
      ],
      "execution_count": 0,
      "outputs": []
    },
    {
      "cell_type": "code",
      "metadata": {
        "id": "O8-N8Q39Ayqk",
        "colab_type": "code",
        "colab": {
          "base_uri": "https://localhost:8080/",
          "height": 68
        },
        "outputId": "298b4548-fc95-4048-e912-f9dfd26d018d"
      },
      "source": [
        "rectangulo()"
      ],
      "execution_count": 47,
      "outputs": [
        {
          "output_type": "stream",
          "text": [
            "Longitud de la altura del rectángulo: 2\n",
            "Longitud de la base del retángulo: 3\n",
            "El perímetro del rectángulo es:  10.0    El area del rectángulo es:  6.0\n"
          ],
          "name": "stdout"
        }
      ]
    }
  ]
}
